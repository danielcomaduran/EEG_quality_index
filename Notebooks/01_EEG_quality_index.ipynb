{
 "cells": [
  {
   "cell_type": "markdown",
   "metadata": {},
   "source": [
    "# EEG Quality Index\n",
    "\n",
    "This notebook takes you through the implementation \n",
    "\n",
    "## Import libraries"
   ]
  },
  {
   "cell_type": "code",
   "execution_count": 1,
   "metadata": {},
   "outputs": [],
   "source": [
    "%matplotlib qt\n",
    "\n",
    "## Import libraries\n",
    "import numpy as np\n",
    "import moabb\n",
    "import scipy.fft as fft\n",
    "import scipy.stats as stats"
   ]
  },
  {
   "cell_type": "markdown",
   "metadata": {},
   "source": [
    "## Import and visualize data"
   ]
  },
  {
   "cell_type": "code",
   "execution_count": 2,
   "metadata": {},
   "outputs": [],
   "source": [
    "# Settings\n",
    "plot_raw = False    # Boolean to plot raw data\n",
    "\n",
    "# Set log level\n",
    "moabb.set_log_level(\"warning\")\n",
    "\n",
    "# Import dataset\n",
    "from moabb.datasets import BNCI2014001\n",
    "\n",
    "dataset = BNCI2014001()\n",
    "\n",
    "sessions = dataset.get_data(subjects=[1])\n",
    "subject = 1\n",
    "session_name = \"session_T\"\n",
    "run_name = \"run_1\"\n",
    "raw = sessions[subject][session_name][run_name]\n",
    "\n",
    "\n",
    "# Visualize RAW data\n",
    "if plot_raw:\n",
    "    raw.plot()"
   ]
  },
  {
   "cell_type": "markdown",
   "metadata": {},
   "source": [
    "## Signal quality metrics\n",
    "\n",
    "The signal is analyzed as a sliding window of 1 second, with steps of 1 sample. The windows are defined as $\\pm$ 500 msec before and after the center of the window. This window size allows to keep a 1 Hz frequency resolution.\n",
    "\n",
    "First, the data will be converted to a `numpy` array with the previously mentioned sliding window approach."
   ]
  },
  {
   "cell_type": "code",
   "execution_count": 3,
   "metadata": {},
   "outputs": [],
   "source": [
    "# Separate data \n",
    "eeg_raw = raw.get_data()\n",
    "srate = raw.info['sfreq']\n",
    "\n",
    "window = int(srate) # Number of samples for each window [n]\n",
    "slide = 1           # Number of samples to slide each window [n]\n",
    "\n",
    "def sliding_window(data, window, slide):\n",
    "    \"\"\"\n",
    "        This function calculates a sliding window across the longest dimension of a 2D array and returns a \n",
    "        3D tensor where the 3rd dimension are the windows\n",
    "\n",
    "    Parameters\n",
    "    ----------\n",
    "        data: 2D array_like\n",
    "            Data to be divided into sliding windows\n",
    "        window: int\n",
    "            Number of samples for each window\n",
    "        slide: int\n",
    "            Number of samples to slide each window\n",
    "    Returns\n",
    "    -------\n",
    "        data_windowed: 3D array_like   \n",
    "    \"\"\"\n",
    "    # If column vectors, transpose for row vectors\n",
    "    shape = data.shape\n",
    "    if shape[0] > shape[1]:\n",
    "        transposed_data = True \n",
    "        data = data.T\n",
    "        shape = data.shape\n",
    "\n",
    "    n_chans = shape[0]                      # Number of channels [n]\n",
    "    data_length = shape[1]                  # Input data length [n]                 \n",
    "    max_n_windows = data_length-window+1    # Max number of windows required [n]\n",
    "\n",
    "    # Create matrix for indices of the sliding window\n",
    "    window_idy = np.arange(0,max_n_windows,slide).reshape(-1,1).repeat(window, axis=1)  # Index for columns\n",
    "    window_idx = np.arange(window).reshape(1,-1).repeat(np.size(window_idy,0), axis=0)  # Index for rows\n",
    "    window_mat = window_idx + window_idy                                                # Matrix with index of windows\n",
    "    window_shape = window_mat.shape\n",
    "\n",
    "    # Preallocate output data\n",
    "    data_windowed = np.zeros((n_chans, window_shape[1], window_shape[0]))\n",
    "\n",
    "    # Fill each window with the right index values\n",
    "    for w in range(window_shape[0]):\n",
    "        data_windowed[:,:,w] = data[:,window_mat[w,:].astype(int)]\n",
    "    \n",
    "    return data_windowed\n",
    "\n",
    "eeg_windowed = sliding_window(eeg_raw, window, slide)"
   ]
  },
  {
   "cell_type": "markdown",
   "metadata": {},
   "source": [
    "### Averaged single-sided amplitude spectrum (1-50 Hz) \n",
    "\n",
    "The frequency range of 1-50Hz covers standard brain-wave bands  of  delta,  (1-4Hz),  theta  (4-8Hz),  alpha  (8-12Hz),beta (12-30Hz),  and  low  gamma  (30-50Hz)  waves.  The  average signal-sided   amplitude   spectrum   of   these   bands   can   be determined  from  the  Fast  Fourier  Transform  (FFT)  of  the signal.\n",
    "\n"
   ]
  },
  {
   "cell_type": "code",
   "execution_count": 4,
   "metadata": {},
   "outputs": [],
   "source": [
    "# Calculate single sided FFT and frequency vector\n",
    "single_fft = np.abs(fft.rfft(eeg_windowed, n=window, axis=1, workers=-1))\n",
    "size_fft = np.shape(single_fft)\n",
    "freq_vect = srate * np.linspace(0, window/2, size_fft[1]) / window\n",
    "\n",
    "# Average from f_start to f_end\n",
    "f_start = 1     # Frequency start for average [Hz]\n",
    "f_end = 50      # Frequency end for average [Hz]\n",
    "f_mask = np.expand_dims((freq_vect>=f_start) & (freq_vect<=f_end), axis=0)\n",
    "f_mask_tensor = np.expand_dims(f_mask.repeat(size_fft[0], axis=0), axis=2).repeat(size_fft[2], axis=2)\n",
    "\n",
    "mean_ssas = np.mean(single_fft, axis=1, where=f_mask_tensor)    # Mean Single Sided Amplitude Spectrum"
   ]
  },
  {
   "cell_type": "markdown",
   "metadata": {},
   "source": [
    "### Line noise - average single-sided amplitude spectrum (59-61 Hz range)\n",
    "\n",
    "Line noise artifact arises from electromagnetic interference with the power grid (60 Hz in North America, 50 Hz in Europe) Most of the induced electrical noise in EEG experiments arises from AC devices near the recording hardware. To measure the strength of the line noise in  the EEG signal, we compute the average single-sided amplitude spectrum of the signal over the range of 59-61 Hz."
   ]
  },
  {
   "cell_type": "code",
   "execution_count": 5,
   "metadata": {},
   "outputs": [],
   "source": [
    "# Average from f_start to f_end\n",
    "f_start = 59    # Frequency start for average [Hz]\n",
    "f_end = 61      # Frequency end for average [Hz]\n",
    "f_mask = np.expand_dims((freq_vect>=f_start) & (freq_vect<=f_end), axis=0)\n",
    "f_mask_tensor = np.expand_dims(f_mask.repeat(size_fft[0], axis=0), axis=2).repeat(size_fft[2], axis=2)\n",
    "\n",
    "line_ssas = np.mean(single_fft, axis=1, where=f_mask_tensor)    # Mean Single Sided Amplitude Spectrum"
   ]
  },
  {
   "cell_type": "markdown",
   "metadata": {},
   "source": [
    "### RMS Amplitude\n",
    "\n",
    "The root-mean-square (RMS) amplitude of the EEG signal is a general measure of the magnitude of the signal throughout the window. RMS of a signal `X` of length `N` can be calculated as\n",
    "\n",
    "$$ X_{rms} = \\sqrt{\\frac{1}{N} \\sum^{N}_{n=1}{|X_n|^2}} $$"
   ]
  },
  {
   "cell_type": "code",
   "execution_count": 6,
   "metadata": {},
   "outputs": [],
   "source": [
    "# RMS of each window\n",
    "window_rms = np.sqrt(np.mean(eeg_windowed**2, axis=1)) "
   ]
  },
  {
   "cell_type": "markdown",
   "metadata": {},
   "source": [
    "### Maximum gradient\n",
    "\n",
    "The maximum gradient of the EEG signal is the largets difference between all adjacent samples within the window. It is defined as:\n",
    "\n",
    "$$ \\text{MG} = \\text{max}[x(n) - x(n-1)] $$\n",
    "\n",
    "This is a commonly used artifact-detection method in EEG analyses, where a step of 10 $\\mu \\text{V/ms}$ is often used a s threshold to indicate any high amplitude or high frequency artifact that produces a large spike in voltage. "
   ]
  },
  {
   "cell_type": "code",
   "execution_count": 7,
   "metadata": {},
   "outputs": [],
   "source": [
    "max_grad = (np.diff(eeg_windowed, axis=1)).max(axis=1) "
   ]
  },
  {
   "cell_type": "markdown",
   "metadata": {},
   "source": [
    "### Zero-crossing rate\n",
    "\n",
    "The zero-crossing rate (ZCR) is the rate at whith the signal changes signs from positive to negative. It is defined as:\n",
    "\n",
    "$$ \\text{ZCR} = \\frac{1}{N} \\sum^{N}_{n=1} {|\\text{sign}[x(n)] - \\text{sign}[x(n-1)]|} $$\n",
    "\n",
    "It is an indicator of the frequency at whit the majority of energy is conocentrades in the signal spectrum. The ZCR should increase in high-frequency artifacts and decrease with low-frequency artifacts that cause the EEG trace to drift away from the zero line."
   ]
  },
  {
   "cell_type": "code",
   "execution_count": 8,
   "metadata": {},
   "outputs": [],
   "source": [
    "def zcr(data):\n",
    "    \"\"\"\n",
    "        Compute the zero-crossing rate (ZCR) of the input data along the columns\n",
    "\n",
    "    Parameters\n",
    "    ----------\n",
    "        data: array_like\n",
    "            Data to compute the ZCR\n",
    "\n",
    "    Returns\n",
    "    -------\n",
    "        data_zcr: array_like\n",
    "            ZCR result\n",
    "\n",
    "    Notes\n",
    "    -----\n",
    "        - ZCR will be one less dimension than input data\n",
    "    \"\"\"\n",
    "\n",
    "    data_shape = data.shape\n",
    "\n",
    "    # Make sure data is in a row matrix\n",
    "    if data_shape[0] > data_shape[1]:\n",
    "        data = data.T\n",
    "\n",
    "    data_zcr = np.mean(np.diff(np.sign(eeg_windowed), axis=1), axis=1)\n",
    "\n",
    "    return data_zcr\n",
    "\n",
    "eeg_zcr = zcr(eeg_windowed)\n",
    "\n",
    "# eeg_zcr = np.mean(np.diff(np.sign(eeg_windowed), axis=1), axis=1)"
   ]
  },
  {
   "cell_type": "markdown",
   "metadata": {},
   "source": [
    "### Kurtosis\n",
    "\n",
    "Kurtosis is a standard statistical measure of haviness of the tails of a distribution of amples (i.e., it indicates how likely the sample is to contain an outlier). For a window  `X` of length `N`, the kurtosis can be calculated by:\n",
    "\n",
    "$$ \\text{Kurtosis} = \\frac{\\frac{1}{N} \\sum^{N}_{i=1}{(x(i)-\\bar{x})^4}} {(\\frac{1}{N} \\sum^{N}_{i=1}{(x(i)-\\bar{x})^2})^2} $$\n",
    "\n",
    "The higher the likelihood of outlier in the sample, the larget the kutrosis value. Similarly, the more uniform the distribution, the lower the kurtosis relative to a normal distribution. Kurtosis has also been used as a means of artifact detection in EEG signals."
   ]
  },
  {
   "cell_type": "code",
   "execution_count": 9,
   "metadata": {},
   "outputs": [],
   "source": [
    "eeg_kurtosis = stats.kurtosis(eeg_windowed, axis=1)"
   ]
  },
  {
   "cell_type": "markdown",
   "metadata": {},
   "source": [
    "## Scoring\n",
    "\n",
    "The EEG Quality Index (EQI) for each window is compared to a normative database of artifact-free \"clean\" EEG. The data is Z-scored with the following values:\n",
    "- EQI $\\le \\pm$ 1 stdev = 0.\n",
    "- $\\pm$ 1 stdev $\\lt$ EQI $\\le \\pm$ 2 stdev = 1\n",
    "- $\\pm$ 2 stdev $\\lt$ EQI $\\le \\pm$ 3 stdev = 2\n",
    "- $\\pm$ 3 stdev $\\lt$ EQI = 3 \n",
    "\n",
    "Thus, a score of 0 would represent a segment of EEG that is considered normal, with an increasing score suggesting an increased likelihood of abnormal EEG (i.e., some type of artifact).\n",
    "\n",
    "With the sliding window approach, the average score for a longer segment of EEG is a funcion of the number and severity of artifacts and the total duration of the signal. A single large artifact in a very short recording might affect the overall quality more than a single large articat over a longer recording. Similarly, a small artifact that occurs over a long period would affect the EQI substantially."
   ]
  }
 ],
 "metadata": {
  "interpreter": {
   "hash": "71520d090ad0f2230ef411ffb306f61b19afc5cc2ad9199d6e7a7d4e2224d4a3"
  },
  "kernelspec": {
   "display_name": "Python 3.9.7 ('eeg_quality')",
   "language": "python",
   "name": "python3"
  },
  "language_info": {
   "codemirror_mode": {
    "name": "ipython",
    "version": 3
   },
   "file_extension": ".py",
   "mimetype": "text/x-python",
   "name": "python",
   "nbconvert_exporter": "python",
   "pygments_lexer": "ipython3",
   "version": "3.9.7"
  },
  "orig_nbformat": 4
 },
 "nbformat": 4,
 "nbformat_minor": 2
}
