{
 "cells": [
  {
   "cell_type": "markdown",
   "metadata": {},
   "source": [
    "## Import libraries"
   ]
  },
  {
   "cell_type": "code",
   "execution_count": 9,
   "metadata": {},
   "outputs": [],
   "source": [
    "%matplotlib qt\n",
    "\n",
    "import os\n",
    "import mne\n",
    "import sys\n",
    "import pyxdf\n",
    "import numpy as np\n",
    "import pandas as pd\n",
    "import seaborn as sns\n",
    "import scipy.fft as fft\n",
    "import scipy.stats as stats\n",
    "import matplotlib.pyplot as plt\n",
    "sys.path.append(\"..\") # Adds higher directory to python modules path.\n",
    "from Functions import eeg_quality_index"
   ]
  },
  {
   "cell_type": "markdown",
   "metadata": {},
   "source": [
    "## Import data"
   ]
  },
  {
   "cell_type": "code",
   "execution_count": 10,
   "metadata": {},
   "outputs": [
    {
     "name": "stdout",
     "output_type": "stream",
     "text": [
      "c:\\Users\\danie\\Documents\\Projects\\EEG_quality_index\\Data\\\\220627 EZ Headset comparison\\EZ_gtec_baseline.xdf\n"
     ]
    }
   ],
   "source": [
    "# Get data directory\n",
    "current_directory = os.getcwd()\n",
    "os.chdir(\"..\")\n",
    "data_folder = os.getcwd() + '\\\\Data\\\\'\n",
    "os.chdir(current_directory)\n",
    "\n",
    "# - Create MNE object from XDF data\n",
    "stream = 1  # Select proper stream from XDF file\n",
    "trial_name = '\\\\220627 EZ Headset comparison\\\\EZ_gtec_baseline.xdf'  # Change this if needed\n",
    "print(f'{data_folder+trial_name}')\n",
    "streams, header = pyxdf.load_xdf(data_folder+trial_name, verbose=False)\n",
    "sfreq = float(streams[stream]['info']['nominal_srate'][0])                  # Sampling frequency [Hz]\n",
    "n_chans = len(streams[stream]['info']['desc'][0]['channels'][0]['channel']) # Number of channels [n]\n",
    "chans = [streams[stream]['info']['desc'][0]['channels'][0]['channel'][i]['label'][0] for i in range(n_chans)]   # Channel names\n",
    "info = mne.create_info(chans, sfreq, ch_types='eeg')\n",
    "data = streams[stream]['time_series'].T # EEG data [uV]\n",
    "gain = 1e-6 # Multiply data by gain factor to get the proper units\n",
    "gtec = mne.io.RawArray(data*gain, info, verbose=False) # Change this variable name if needed\n",
    "\n",
    "# - Import EDF data to MNE objects\n",
    "# -- Cognionics\n",
    "trial_name = '\\\\220627 EZ Headset comparison\\\\EZ_cgx_baseline.edf'\n",
    "cgx = mne.io.read_raw_edf(data_folder+trial_name, verbose=False, preload=True)\n",
    "\n",
    "# -- Wearable sensing\n",
    "trial_name = '\\\\220627 EZ Headset comparison\\\\EZ_ws_baseline.edf'\n",
    "ws = mne.io.read_raw_edf(data_folder+trial_name, verbose=False, preload=True)\n"
   ]
  },
  {
   "cell_type": "markdown",
   "metadata": {},
   "source": [
    "## Plot raw data\n",
    "\n",
    "Enable if needed"
   ]
  },
  {
   "cell_type": "code",
   "execution_count": 11,
   "metadata": {},
   "outputs": [],
   "source": [
    "# gtec.plot(title='Clean dataset')\n",
    "# cgx.plot(title='Cognionics dataset')\n",
    "# ws.plot(title='Wearable sensing dataset')"
   ]
  },
  {
   "cell_type": "markdown",
   "metadata": {},
   "source": [
    "## Pick channels\n",
    "\n",
    "From CGX and WS headsets, pick channels that are similar to the position of the Gtec headset"
   ]
  },
  {
   "cell_type": "code",
   "execution_count": 12,
   "metadata": {},
   "outputs": [
    {
     "data": {
      "text/html": [
       "\n",
       "\n",
       "<table class=\"table table-hover table-striped table-sm table-responsive small\">\n",
       "    <tr>\n",
       "        <th>Measurement date</th>\n",
       "        <td>February 09, 2021  14:44:24 GMT</td>\n",
       "        \n",
       "    </tr>\n",
       "    <tr>\n",
       "        <th>Experimenter</th>\n",
       "<td>Unknown</td>\n",
       "    </tr>\n",
       "        <th>Participant</th>\n",
       "<td>Unknown</td>\n",
       "    </tr>\n",
       "    <tr>\n",
       "        <th>Digitized points</th>\n",
       "        <td>Not available</td>\n",
       "    </tr>\n",
       "    <tr>\n",
       "        <th>Good channels</th>\n",
       "        <td>10 EEG</td>\n",
       "    </tr>\n",
       "    <tr>\n",
       "        <th>Bad channels</th>\n",
       "        <td>None</td>\n",
       "    </tr>\n",
       "    <tr>\n",
       "        <th>EOG channels</th>\n",
       "        <td>Not available</td>\n",
       "    </tr>\n",
       "    <tr>\n",
       "        <th>ECG channels</th>\n",
       "        <td>Not available</td>\n",
       "    <tr>\n",
       "        <th>Sampling frequency</th>\n",
       "        <td>300.00 Hz</td>\n",
       "    </tr>\n",
       "    <tr>\n",
       "        <th>Highpass</th>\n",
       "        <td>0.00 Hz</td>\n",
       "    </tr>\n",
       "    <tr>\n",
       "        <th>Lowpass</th>\n",
       "        <td>150.00 Hz</td>\n",
       "    </tr>\n",
       "\n",
       "    <tr>\n",
       "        <th>Filenames</th>\n",
       "        <td>EZ_ws_baseline.edf</td>\n",
       "    </tr>\n",
       "    <tr>\n",
       "        <th>Duration</th>\n",
       "        <td>00:02:34 (HH:MM:SS)</td>\n",
       "    </tr>\n",
       "</table>\n"
      ],
      "text/plain": [
       "<RawEDF | EZ_ws_baseline.edf, 10 x 46500 (155.0 s), ~3.6 MB, data loaded>"
      ]
     },
     "execution_count": 12,
     "metadata": {},
     "output_type": "execute_result"
    }
   ],
   "source": [
    "gtec_chans = ['FC3', 'FCz', 'FC4','C3', 'Cz', 'C4', 'P3', 'P4', 'PO7', 'PO8']\n",
    "cgx_chans = ['F3', 'Fz', 'F4', 'C3', 'Cz', 'C4', 'P3', 'P4', 'O1', 'O2']\n",
    "ws_chans = ['EEG F3-Pz', 'EEG Fz-Pz', 'EEG F4-Pz', 'EEG C3-Pz', 'EEG Cz-Pz', 'EEG C4-Pz',\n",
    "            'EEG P3-Pz', 'EEG P4-Pz', 'EEG O1-Pz', 'EEG O2-Pz']\n",
    "\n",
    "gtec.pick(gtec_chans, verbose=False)\n",
    "cgx.pick(cgx_chans, verbose=False)\n",
    "ws.pick(ws_chans, verbose=False)"
   ]
  },
  {
   "cell_type": "markdown",
   "metadata": {},
   "source": [
    "## Trim and filter data"
   ]
  },
  {
   "cell_type": "code",
   "execution_count": 13,
   "metadata": {},
   "outputs": [
    {
     "data": {
      "text/html": [
       "\n",
       "\n",
       "<table class=\"table table-hover table-striped table-sm table-responsive small\">\n",
       "    <tr>\n",
       "        <th>Measurement date</th>\n",
       "        <td>February 09, 2021  14:44:24 GMT</td>\n",
       "        \n",
       "    </tr>\n",
       "    <tr>\n",
       "        <th>Experimenter</th>\n",
       "<td>Unknown</td>\n",
       "    </tr>\n",
       "        <th>Participant</th>\n",
       "<td>Unknown</td>\n",
       "    </tr>\n",
       "    <tr>\n",
       "        <th>Digitized points</th>\n",
       "        <td>Not available</td>\n",
       "    </tr>\n",
       "    <tr>\n",
       "        <th>Good channels</th>\n",
       "        <td>10 EEG</td>\n",
       "    </tr>\n",
       "    <tr>\n",
       "        <th>Bad channels</th>\n",
       "        <td>None</td>\n",
       "    </tr>\n",
       "    <tr>\n",
       "        <th>EOG channels</th>\n",
       "        <td>Not available</td>\n",
       "    </tr>\n",
       "    <tr>\n",
       "        <th>ECG channels</th>\n",
       "        <td>Not available</td>\n",
       "    <tr>\n",
       "        <th>Sampling frequency</th>\n",
       "        <td>300.00 Hz</td>\n",
       "    </tr>\n",
       "    <tr>\n",
       "        <th>Highpass</th>\n",
       "        <td>0.10 Hz</td>\n",
       "    </tr>\n",
       "    <tr>\n",
       "        <th>Lowpass</th>\n",
       "        <td>65.00 Hz</td>\n",
       "    </tr>\n",
       "\n",
       "    <tr>\n",
       "        <th>Filenames</th>\n",
       "        <td>EZ_ws_baseline.edf</td>\n",
       "    </tr>\n",
       "    <tr>\n",
       "        <th>Duration</th>\n",
       "        <td>00:00:30 (HH:MM:SS)</td>\n",
       "    </tr>\n",
       "</table>\n"
      ],
      "text/plain": [
       "<RawEDF | EZ_ws_baseline.edf, 10 x 9001 (30.0 s), ~718 kB, data loaded>"
      ]
     },
     "execution_count": 13,
     "metadata": {},
     "output_type": "execute_result"
    }
   ],
   "source": [
    "#%% Filter data\n",
    "# - Select cutoff frequencies for bandpass filter and filter the data\n",
    "fc_high = 65    # cutoff frequency high [Hz]\n",
    "fc_low = 0.1    # cutoff frequency low [Hz]\n",
    "\n",
    "gtec.filter(l_freq=fc_low, h_freq=fc_high)\n",
    "cgx.filter(l_freq=fc_low, h_freq=fc_high)\n",
    "ws.filter(l_freq=fc_low, h_freq=fc_high)\n",
    "\n",
    "#%% Trim times\n",
    "trim_times = [45, 75]\n",
    "gtec.crop(tmin=trim_times[0], tmax=trim_times[1])\n",
    "cgx.crop(tmin=trim_times[0], tmax=trim_times[1])\n",
    "ws.crop(tmin=trim_times[0], tmax=trim_times[1])\n"
   ]
  },
  {
   "cell_type": "markdown",
   "metadata": {},
   "source": [
    "## Compute EQI\n"
   ]
  },
  {
   "cell_type": "code",
   "execution_count": 14,
   "metadata": {},
   "outputs": [],
   "source": [
    "# Numpy data\n",
    "gtec_data = gtec.get_data()\n",
    "cgx_data = cgx.get_data()\n",
    "ws_data = ws.get_data()\n",
    "\n",
    "# Sampling rates [Hz]\n",
    "gtec_srate = int(gtec.info['sfreq'])\n",
    "cgx_srate = int(cgx.info['sfreq'])\n",
    "ws_srate = int(ws.info['sfreq'])\n",
    "\n",
    "# Windows [samples]\n",
    "gtec_win = int(gtec_srate/2)\n",
    "cgx_win = int(cgx_srate/2)\n",
    "ws_win = int(ws_srate/2)\n",
    "\n",
    "# Sliding window [samples]\n",
    "sliding_window = 10e-3  # Time of sliding window [sec]\n",
    "gtec_slide = int(gtec_srate*sliding_window)\n",
    "cgx_slide = int(cgx_srate*sliding_window)\n",
    "ws_slide = int(ws_srate*sliding_window)\n",
    "\n",
    "[_, cgx_percent, cgx_mean] = eeg_quality_index.scoring(gtec_data, cgx_data, gtec_srate, cgx_srate, window=[gtec_win, cgx_win], slide=[gtec_slide, cgx_slide])\n",
    "[_, ws_percent, ws_mean] = eeg_quality_index.scoring(gtec_data, ws_data, gtec_srate, ws_srate, window=[gtec_win, ws_win], slide=[gtec_slide, ws_slide])"
   ]
  },
  {
   "cell_type": "markdown",
   "metadata": {},
   "source": [
    "## Export results"
   ]
  },
  {
   "cell_type": "code",
   "execution_count": 17,
   "metadata": {},
   "outputs": [],
   "source": [
    "results_cgx = pd.DataFrame(np.row_stack((cgx_percent, cgx_mean)), columns=cgx_chans)\n",
    "results_ws = pd.DataFrame(np.row_stack((ws_percent, ws_mean)), columns=ws_chans)\n",
    "\n",
    "excel_file = 'EZ_results_'\n",
    "results_cgx.to_csv(excel_file+'cgx.csv')\n",
    "results_ws.to_csv(excel_file+'ws.csv')"
   ]
  }
 ],
 "metadata": {
  "kernelspec": {
   "display_name": "Python 3.9.7 ('eeg_quality')",
   "language": "python",
   "name": "python3"
  },
  "language_info": {
   "codemirror_mode": {
    "name": "ipython",
    "version": 3
   },
   "file_extension": ".py",
   "mimetype": "text/x-python",
   "name": "python",
   "nbconvert_exporter": "python",
   "pygments_lexer": "ipython3",
   "version": "3.9.7"
  },
  "orig_nbformat": 4,
  "vscode": {
   "interpreter": {
    "hash": "71520d090ad0f2230ef411ffb306f61b19afc5cc2ad9199d6e7a7d4e2224d4a3"
   }
  }
 },
 "nbformat": 4,
 "nbformat_minor": 2
}
