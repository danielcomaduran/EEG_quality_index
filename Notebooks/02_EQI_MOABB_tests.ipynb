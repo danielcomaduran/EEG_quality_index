{
 "cells": [
  {
   "cell_type": "markdown",
   "metadata": {},
   "source": [
    "# EEG Quality Index - MOABB Test\n",
    "\n",
    "## Import libraries"
   ]
  },
  {
   "cell_type": "code",
   "execution_count": 1,
   "metadata": {},
   "outputs": [],
   "source": [
    "## Import libraries\n",
    "import numpy as np\n",
    "import sys\n",
    "import moabb\n",
    "import scipy.fft as fft\n",
    "import scipy.stats as stats\n",
    "sys.path.append(\"..\") # Adds higher directory to python modules path.\n",
    "from Functions import eeg_quality_index"
   ]
  },
  {
   "cell_type": "markdown",
   "metadata": {},
   "source": [
    "## Import dataset\n",
    "\n",
    "Import dataset and separate in clean and test EEG dataset"
   ]
  },
  {
   "cell_type": "code",
   "execution_count": 2,
   "metadata": {},
   "outputs": [],
   "source": [
    "# Settings\n",
    "plot_raw = False   # Boolean to plot raw data\n",
    "\n",
    "# Set log level\n",
    "moabb.set_log_level(\"warning\")\n",
    "\n",
    "# Import dataset\n",
    "from moabb.datasets import BNCI2014001\n",
    "\n",
    "dataset = BNCI2014001()\n",
    "\n",
    "# Clean data\n",
    "sessions = dataset.get_data(subjects=[1])\n",
    "subject = 1\n",
    "session_name = \"session_T\"\n",
    "run_name = \"run_1\"\n",
    "clean_raw = sessions[subject][session_name][run_name]\n",
    "eeg_clean_raw = clean_raw.get_data()\n",
    "srate_clean = int(clean_raw.info['sfreq'])\n",
    "\n",
    "# Test data\n",
    "sessions = dataset.get_data(subjects=[1])\n",
    "subject = 1\n",
    "session_name = \"session_E\"\n",
    "run_name = \"run_1\"\n",
    "test_raw = sessions[subject][session_name][run_name]\n",
    "eeg_test_raw = test_raw.get_data()\n",
    "srate_test = int(test_raw.info['sfreq'])\n",
    "\n",
    "# Visualize RAW data\n",
    "if plot_raw:\n",
    "    test_raw.plot()"
   ]
  },
  {
   "cell_type": "markdown",
   "metadata": {},
   "source": [
    "## Run EQI and get z-scores\n",
    "\n",
    "The `eeg_quality_index.scoring` function calculates the following variables:\n",
    "- `clean_total`: This is the percentage of summed windows > 0. Shape will be 1D with length = n_channels\n",
    "-  `clean_percent`: This is the percentage of windows > 0. Shape will be 2D with dimensions [6 x n_channels]\n",
    "- `eqi_mean`: This is the mean values for each EQI variable for each channel. Shape will be [EQI, channel]"
   ]
  },
  {
   "cell_type": "code",
   "execution_count": 7,
   "metadata": {},
   "outputs": [],
   "source": [
    "trim = 10   # Trim time [sec]\n",
    "eeg_clean_raw = eeg_clean_raw[:,0:int(trim*srate_clean)]\n",
    "eeg_test_raw = eeg_test_raw[:,0:int(trim*srate_test)]\n",
    "\n",
    "[clean_total, clean_percent, eqi_mean] = eeg_quality_index.scoring(eeg_clean_raw, eeg_test_raw, srate_clean, srate_test, window=srate_clean, slide=1)\n"
   ]
  },
  {
   "cell_type": "code",
   "execution_count": 12,
   "metadata": {},
   "outputs": [
    {
     "name": "stdout",
     "output_type": "stream",
     "text": [
      "Results\n",
      "-------\n",
      "Percentage of clean data per channel for channels 0-3:\n",
      "[95.69080409 95.29098179 95.20213239]\n",
      "\n",
      "Percentage of clean windows for channel 0:\n",
      "[24.21146157 56.77476677 41.13727232 47.49000444 44.64682363 32.9187028 ]\n",
      "\n",
      "Mean EQI values for channel 0:\n",
      "[0.27809862 0.83296313 0.44780098 0.69613505 0.44646824 0.65037761]\n"
     ]
    }
   ],
   "source": [
    "\n",
    "print('Results')\n",
    "print('-------')\n",
    "print(f'Percentage of clean data per channel for channels 0-3:\\n{clean_total[0:3]}')\n",
    "print(f'\\nPercentage of clean windows for channel 0:\\n{clean_percent[:,0]}')\n",
    "print(f'\\nMean EQI values for channel 0:\\n{eqi_mean[:,0]}')"
   ]
  }
 ],
 "metadata": {
  "interpreter": {
   "hash": "71520d090ad0f2230ef411ffb306f61b19afc5cc2ad9199d6e7a7d4e2224d4a3"
  },
  "kernelspec": {
   "display_name": "Python 3.9.7 ('eeg_quality')",
   "language": "python",
   "name": "python3"
  },
  "language_info": {
   "codemirror_mode": {
    "name": "ipython",
    "version": 3
   },
   "file_extension": ".py",
   "mimetype": "text/x-python",
   "name": "python",
   "nbconvert_exporter": "python",
   "pygments_lexer": "ipython3",
   "version": "3.9.7"
  },
  "orig_nbformat": 4
 },
 "nbformat": 4,
 "nbformat_minor": 2
}
